{
  "nbformat": 4,
  "nbformat_minor": 0,
  "metadata": {
    "colab": {
      "provenance": [],
      "authorship_tag": "ABX9TyM1pnCUlDIK2143thHQw7Zp",
      "include_colab_link": true
    },
    "kernelspec": {
      "name": "python3",
      "display_name": "Python 3"
    },
    "language_info": {
      "name": "python"
    }
  },
  "cells": [
    {
      "cell_type": "markdown",
      "metadata": {
        "id": "view-in-github",
        "colab_type": "text"
      },
      "source": [
        "<a href=\"https://colab.research.google.com/github/SaraRajput21/Hangman_game_python/blob/main/Untitled0.ipynb\" target=\"_parent\"><img src=\"https://colab.research.google.com/assets/colab-badge.svg\" alt=\"Open In Colab\"/></a>"
      ]
    },
    {
      "cell_type": "code",
      "execution_count": 5,
      "metadata": {
        "colab": {
          "base_uri": "https://localhost:8080/"
        },
        "id": "FeTYrA3xj4PD",
        "outputId": "eec687d6-ac40-44a8-ecef-bccd2359eb1b"
      },
      "outputs": [
        {
          "output_type": "stream",
          "name": "stdout",
          "text": [
            "Welcome to Hangman!\n",
            "The word has 6 letters.\n",
            "_ _ _ _ _ _\n",
            "Guess a letter: a\n",
            "Wrong guess! You have 5 attempts left.\n",
            "_ _ _ _ _ _\n",
            "Guess a letter: b\n",
            "Wrong guess! You have 4 attempts left.\n",
            "_ _ _ _ _ _\n",
            "Guess a letter: m\n",
            "Wrong guess! You have 3 attempts left.\n",
            "_ _ _ _ _ _\n",
            "Guess a letter: r\n",
            "Wrong guess! You have 2 attempts left.\n",
            "_ _ _ _ _ _\n",
            "Guess a letter: s\n",
            "Wrong guess! You have 1 attempts left.\n",
            "_ _ _ _ _ _\n",
            "Guess a letter: t\n",
            "Good guess!\n",
            "_ _ t _ _ _\n",
            "Guess a letter: e\n",
            "Wrong guess! You have 0 attempts left.\n",
            "You ran out of attempts. The word was: python\n"
          ]
        }
      ],
      "source": [
        "import random\n",
        "\n",
        "def hangman():\n",
        "    # List of words for the game\n",
        "    words = ['python', 'hangman', 'programming', 'colab', 'developer', 'algorithm']\n",
        "    word = random.choice(words).lower()\n",
        "    guessed_letters = []\n",
        "    attempts = 6  # Number of attempts allowed\n",
        "\n",
        "    print(\"Welcome to Hangman!\")\n",
        "    print(\"The word has\", len(word), \"letters.\")\n",
        "\n",
        "    while attempts > 0:\n",
        "        # Display the current state of the word\n",
        "        display_word = \"\"\n",
        "        for letter in word:\n",
        "            if letter in guessed_letters:\n",
        "                display_word += letter + \" \"\n",
        "            else:\n",
        "                display_word += \"_ \"\n",
        "        print(display_word.strip())\n",
        "\n",
        "        # Prompt the user for a guess\n",
        "        guess = input(\"Guess a letter: \").lower()\n",
        "\n",
        "        # Validate the input\n",
        "        if len(guess) != 1 or not guess.isalpha():\n",
        "            print(\"Please enter a single valid letter.\")\n",
        "            continue\n",
        "\n",
        "        # Check if the letter has already been guessed\n",
        "        if guess in guessed_letters:\n",
        "            print(\"You already guessed that letter. Try again.\")\n",
        "            continue\n",
        "\n",
        "        # Add the guessed letter to the list\n",
        "        guessed_letters.append(guess)\n",
        "\n",
        "        # Check if the guessed letter is in the word\n",
        "        if guess not in word:\n",
        "            attempts -= 1\n",
        "            print(f\"Wrong guess! You have {attempts} attempts left.\")\n",
        "            if attempts == 0:\n",
        "                print(\"You ran out of attempts. The word was:\", word)\n",
        "                break\n",
        "        else:\n",
        "            print(\"Good guess!\")\n",
        "\n",
        "        # Check if the player has guessed all the letters\n",
        "        if all(letter in guessed_letters for letter in word):\n",
        "            print(\"Congratulations! You guessed the word:\", word)\n",
        "            break\n",
        "\n",
        "# Run the game\n",
        "hangman()"
      ]
    }
  ]
}